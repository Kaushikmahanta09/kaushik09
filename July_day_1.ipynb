{
  "nbformat": 4,
  "nbformat_minor": 0,
  "metadata": {
    "colab": {
      "provenance": []
    },
    "kernelspec": {
      "name": "python3",
      "display_name": "Python 3"
    },
    "language_info": {
      "name": "python"
    }
  },
  "cells": [
    {
      "cell_type": "markdown",
      "source": [
        "## **1.\tWhat is the primary goal of Object-Oriented Programming (OOP)**"
      ],
      "metadata": {
        "id": "pCruiEdMgy-R"
      }
    },
    {
      "cell_type": "markdown",
      "source": [
        "**Ans:**\n",
        "\n",
        "The primary goal of Object-Oriented Programming (OOP) is to model real-world entities or concepts into software objects that encapsulate data and behavior. OOP aims to organize code in a way that promotes modularity, reusability, and maintainability.\n",
        "\n",
        "Some of key principles of OOPs are-\n",
        "\n",
        "**Encapsulation:** Bundling data and methods that operate on the data within a single unit (the object). This helps hide the internal implementation details and exposes only the necessary interface to interact with the object.\n",
        "\n",
        "**Inheritance:** Allowing a class (subclass or derived class) to inherit properties and behaviors from another class (superclass or base class). Inheritance promotes code reuse and hierarchical relationships.\n",
        "\n",
        "**Polymorphism:** Providing a single interface to entities of different types. Polymorphism allows objects of different classes to be treated uniformly if they share a common interface or base class.\n",
        "\n",
        "**Abstraction:** Simplifying complex reality by modeling only relevant attributes and behaviors of objects while hiding unnecessary details.\n",
        "\n"
      ],
      "metadata": {
        "id": "UPdCEg4RhC-0"
      }
    },
    {
      "cell_type": "markdown",
      "source": [
        "# **2.\tWhat is an object in Python?**"
      ],
      "metadata": {
        "id": "Jx2cRXaUiYMD"
      }
    },
    {
      "cell_type": "markdown",
      "source": [
        "Ans:\n",
        "\n",
        "In Python, an object is a fundamental concept that refers to a specific instance of a data structure or a class. Everything in Python is an object, including numbers, strings, lists, functions, classes, and even modules. Objects have attributes (characteristics or data) and methods (functions that can operate on the object's data)."
      ],
      "metadata": {
        "id": "UEkuaajrilZW"
      }
    },
    {
      "cell_type": "markdown",
      "source": [
        "# **3.\tWhat is a class in Python?**"
      ],
      "metadata": {
        "id": "QGm8C2qxjoze"
      }
    },
    {
      "cell_type": "markdown",
      "source": [
        "Ans:\n",
        "\n",
        "In Python, a class is a blueprint or a template for creating objects with similar attributes (data) and behaviors (methods). It defines the structure and characteristics that objects of that class will possess. A class serves as a blueprint for creating multiple instances (objects) of that class, each having its own unique data but sharing the same set of methods defined in the class."
      ],
      "metadata": {
        "id": "NJJv2B1tjuVx"
      }
    },
    {
      "cell_type": "markdown",
      "source": [
        "# **4.\tWhat are attributes and methods in a class?**"
      ],
      "metadata": {
        "id": "pYF-TEyKkRYE"
      }
    },
    {
      "cell_type": "markdown",
      "source": [
        "Ans:\n",
        "\n",
        "Attributes are variables that hold data and represent the characteristics or properties of an object. They define the state of the object and are specific to each instance (object) of the class. Attributes are typically defined and initialized within the constructor method (__init__) of the class. Each attribute has a name and a value associated with it."
      ],
      "metadata": {
        "id": "Ea1_0IprkXF1"
      }
    },
    {
      "cell_type": "markdown",
      "source": [
        "# **5.\tWhat is the difference between class variables and instance variables in Python?**"
      ],
      "metadata": {
        "id": "QRyyqGL7kuFe"
      }
    },
    {
      "cell_type": "markdown",
      "source": [
        "Ans:\n",
        "\n",
        "Class variables are variables that are shared among all instances (objects) of a class. They are defined inside the class but outside any class method.\n",
        "     Whereas\n",
        "    Instance variables are variables that are specific to each instance (object) of a class. They are defined within the class's methods, typically within the constructor method (__init__).\n",
        "\n",
        "Class variables are shared among all instances of a class and have the same value for all objects.\n",
        "Whereas\n",
        "    Instance variables are specific to each instance and hold unique data for each object"
      ],
      "metadata": {
        "id": "2PBdfFd1k1D5"
      }
    },
    {
      "cell_type": "markdown",
      "source": [
        "\n",
        "# **6.\tWhat is the purpose of the self parameter in Python class methods?**\n"
      ],
      "metadata": {
        "id": "cEixGlHBmpvV"
      }
    },
    {
      "cell_type": "markdown",
      "source": [
        "Ans:\n",
        "\n",
        "The purpose of the self parameter is to allow access to the attributes and methods of the instance within the method. It acts as a way to reference the instance itself, enabling you to manipulate and interact with the object's data."
      ],
      "metadata": {
        "id": "LI5Oc_3-nABz"
      }
    },
    {
      "cell_type": "markdown",
      "source": [
        "\n",
        "7.\tFor a library management system, you have to design the \"Book\" class with OOP principles in mind. The “Book” class will have following attributes:\n",
        "\n",
        "\n",
        "a.\ttitle: Represents the title of the book.\n",
        "\n",
        "\n",
        "b.\tauthor: Represents the author(s) of the book.\n",
        "\n",
        "\n",
        "c.\tisbn: Represents the ISBN (International Standard Book Number) of the book.\n",
        "\n",
        "\n",
        "d.\tpublication_year: Represents the year of publication of the book.\n",
        "\n",
        "e.\tavailable_copies: Represents the number of copies available for checkout.\n",
        "\n",
        "The class will also include the following methods:\n",
        "\n",
        "a.\tcheck_out(self): Decrements the available copies by one if there are copies available for checkout.\n",
        "\n",
        "b.\treturn_book(self): Increments the available copies by one when a book is returned.\n",
        "\n",
        "c.\tdisplay_book_info(self): Displays the information about the book, including its attributes and the number of available copies.\n"
      ],
      "metadata": {
        "id": "d9aMCCzgnO6j"
      }
    },
    {
      "cell_type": "markdown",
      "source": [
        "Ans:\n"
      ],
      "metadata": {
        "id": "k4ySxP7NoHhw"
      }
    },
    {
      "cell_type": "code",
      "source": [
        "class Book:\n",
        "    def __init__(self, title, author, isbn, publication_year, available_copies):\n",
        "        self.title = title\n",
        "        self.author = author\n",
        "        self.isbn = isbn\n",
        "        self.publication_year = publication_year\n",
        "        self.available_copies = available_copies\n",
        "\n",
        "    def check_out(self):\n",
        "        if self.available_copies > 0:\n",
        "            self.available_copies -= 1\n",
        "            print(f\"Book '{self.title}' checked out. Available copies: {self.available_copies}\")\n",
        "        else:\n",
        "            print(f\"Sorry, '{self.title}' is currently not available for checkout.\")\n",
        "\n",
        "    def return_book(self):\n",
        "        self.available_copies += 1\n",
        "        print(f\"Book '{self.title}' returned. Available copies: {self.available_copies}\")\n",
        "\n",
        "    def display_book_info(self):\n",
        "        print(\"Book Information:\")\n",
        "        print(f\"Title: {self.title}\")\n",
        "        print(f\"Author: {self.author}\")\n",
        "        print(f\"ISBN: {self.isbn}\")\n",
        "        print(f\"Publication Year: {self.publication_year}\")\n",
        "        print(f\"Available Copies: {self.available_copies}\")\n",
        "\n",
        "book1 = Book(\"Encyclopedia\", \"John\", \"1234567890\", 2023, 5)\n",
        "book1.display_book_info()\n",
        "book1.check_out()\n",
        "book1.check_out()\n",
        "book1.return_book()\n",
        "book1.check_out()\n"
      ],
      "metadata": {
        "colab": {
          "base_uri": "https://localhost:8080/"
        },
        "id": "IuzwbKoxptXg",
        "outputId": "cad6a536-6eda-42d3-c016-656c9d3425b4"
      },
      "execution_count": 2,
      "outputs": [
        {
          "output_type": "stream",
          "name": "stdout",
          "text": [
            "Book Information:\n",
            "Title: Encyclopedia\n",
            "Author: John\n",
            "ISBN: 1234567890\n",
            "Publication Year: 2023\n",
            "Available Copies: 5\n",
            "Book 'Encyclopedia' checked out. Available copies: 4\n",
            "Book 'Encyclopedia' checked out. Available copies: 3\n",
            "Book 'Encyclopedia' returned. Available copies: 4\n",
            "Book 'Encyclopedia' checked out. Available copies: 3\n"
          ]
        }
      ]
    },
    {
      "cell_type": "markdown",
      "source": [
        "8.\tFor a ticket booking system, you have to design the \"Ticket\" class with OOP principles in mind. The “Ticket” class should have the following attributes:\n",
        "\n",
        "a.\tticket_id: Represents the unique identifier for the ticket.\n",
        "\n",
        "b.\tevent_name: Represents the name of the event.\n",
        "\n",
        "c.\tevent_date: Represents the date of the event.\n",
        "\n",
        "d.\tvenue: Represents the venue of the event.\n",
        "\n",
        "e.\tseat_number: Represents the seat number associated with the ticket.\n",
        "\n",
        "f.\tprice: Represents the price of the ticket.\n",
        "\n",
        "g.\tis_reserved: Represents the reservation status of the ticket. The class\n",
        "\n",
        "Also includes the following methods:\n",
        "\n",
        "a.\treserve_ticket(self): Marks the ticket as reserved if it is not already reserved.\n",
        "\n",
        "b.\tcancel_reservation(self): Cancels the reservation of the ticket if it is already reserved.\n",
        "\n",
        "c.\tdisplay_ticket_info(self): Displays the information about the ticket, including its attributes and reservation status.\n"
      ],
      "metadata": {
        "id": "fzFxbXUjq6Mj"
      }
    },
    {
      "cell_type": "markdown",
      "source": [
        "Ans:"
      ],
      "metadata": {
        "id": "fuSXB1VRrT2c"
      }
    },
    {
      "cell_type": "code",
      "source": [
        "class Ticket:\n",
        "    def __init__(self, ticket_id, event_name, event_date, venue, seat_number, price):\n",
        "        self.ticket_id = ticket_id\n",
        "        self.event_name = event_name\n",
        "        self.event_date = event_date\n",
        "        self.venue = venue\n",
        "        self.seat_number = seat_number\n",
        "        self.price = price\n",
        "        self.is_reserved = False\n",
        "\n",
        "    def reserve_ticket(self):\n",
        "        if not self.is_reserved:\n",
        "            self.is_reserved = True\n",
        "            print(f\"Ticket {self.ticket_id} reserved successfully.\")\n",
        "        else:\n",
        "            print(f\"Ticket {self.ticket_id} is already reserved.\")\n",
        "\n",
        "    def cancel_reservation(self):\n",
        "        if self.is_reserved:\n",
        "            self.is_reserved = False\n",
        "            print(f\"Reservation of ticket {self.ticket_id} canceled successfully.\")\n",
        "        else:\n",
        "            print(f\"Ticket {self.ticket_id} is not currently reserved.\")\n",
        "\n",
        "    def display_ticket_info(self):\n",
        "        print(\"Ticket Information:\")\n",
        "        print(f\"Ticket PNR No.: {self.ticket_id}\")\n",
        "        print(f\"Event Name: {self.event_name}\")\n",
        "        print(f\"Event Date: {self.event_date}\")\n",
        "        print(f\"Venue: {self.venue}\")\n",
        "        print(f\"Seat Number: {self.seat_number}\")\n",
        "        print(f\"Price: {self.price}\")\n",
        "        print(f\"Reservation Status: {'Reserved' if self.is_reserved else 'Not Reserved'}\")\n",
        "\n",
        "ticket1 = Ticket(1234567890, \"Examination\", \"2023-07-31\", \"Chennai\", \"C78\", 724)\n",
        "ticket1.display_ticket_info()\n",
        "ticket1.reserve_ticket()\n",
        "ticket1.reserve_ticket()\n",
        "ticket1.cancel_reservation()\n",
        "ticket1.cancel_reservation()\n"
      ],
      "metadata": {
        "colab": {
          "base_uri": "https://localhost:8080/"
        },
        "id": "-yN9LnpPrV2j",
        "outputId": "6e9b3013-f3b0-497b-b726-87a42e8345e0"
      },
      "execution_count": 4,
      "outputs": [
        {
          "output_type": "stream",
          "name": "stdout",
          "text": [
            "Ticket Information:\n",
            "Ticket PNR No.: 1234567890\n",
            "Event Name: Examination\n",
            "Event Date: 2023-07-31\n",
            "Venue: Chennai\n",
            "Seat Number: C78\n",
            "Price: 724\n",
            "Reservation Status: Not Reserved\n",
            "Ticket 1234567890 reserved successfully.\n",
            "Ticket 1234567890 is already reserved.\n",
            "Reservation of ticket 1234567890 canceled successfully.\n",
            "Ticket 1234567890 is not currently reserved.\n"
          ]
        }
      ]
    },
    {
      "cell_type": "markdown",
      "source": [
        "9.You are creating a shopping cart for an e-commerce website. Using OOP to model the \"ShoppingCart\" functionality the class should contain following attributes and methods:\n",
        "\n",
        "a.\titems: Represents the list of items in the shopping cart. The class also\n",
        "\n",
        "Includes the following methods:\n",
        "\n",
        "a.\tadd_item(self, item): Adds an item to the shopping cart by appending it to the list of items.\n",
        "\n",
        "b.\tremove_item(self, item): Removes an item from the shopping cart if it exists in the list.\n",
        "\n",
        "c.\tview_cart(self): Displays the items currently present in the shopping cart.\n",
        "\n",
        "d.\tclear_cart(self): Clears all items from the shopping cart by reassigning an empty list to the items attribute.\n"
      ],
      "metadata": {
        "id": "JSGHxeFbsq3M"
      }
    },
    {
      "cell_type": "markdown",
      "source": [
        "Ans:"
      ],
      "metadata": {
        "id": "LVXBJW1MtWyK"
      }
    },
    {
      "cell_type": "code",
      "source": [
        "class ShoppingCart:\n",
        "    def __init__(self):\n",
        "        self.items = []\n",
        "\n",
        "    def add_item(self, item):\n",
        "        self.items.append(item)\n",
        "        print(f\"{item} added to the shopping cart.\")\n",
        "\n",
        "    def remove_item(self, item):\n",
        "        if item in self.items:\n",
        "            self.items.remove(item)\n",
        "            print(f\"{item} removed from the shopping cart.\")\n",
        "        else:\n",
        "            print(f\"{item} is not present in the shopping cart.\")\n",
        "\n",
        "    def view_cart(self):\n",
        "        if self.items:\n",
        "            print(\"Items in the shopping cart:\")\n",
        "            for item in self.items:\n",
        "                print(f\"- {item}\")\n",
        "        else:\n",
        "            print(\"The shopping cart is empty.\")\n",
        "\n",
        "    def clear_cart(self):\n",
        "        self.items = []\n",
        "        print(\"Shopping cart cleared.\")\n",
        "\n",
        "cart = ShoppingCart()\n",
        "cart.add_item(\"Book\")\n",
        "cart.add_item(\"Shirt\")\n",
        "cart.add_item(\"Headphones\")\n",
        "cart.view_cart()\n",
        "cart.remove_item(\"Shirt\")\n",
        "cart.view_cart()\n",
        "cart.clear_cart()\n",
        "cart.view_cart()\n"
      ],
      "metadata": {
        "colab": {
          "base_uri": "https://localhost:8080/"
        },
        "id": "Mb0BN7qotY5Z",
        "outputId": "58e7238d-f330-4672-91ec-ed553e7e3999"
      },
      "execution_count": 5,
      "outputs": [
        {
          "output_type": "stream",
          "name": "stdout",
          "text": [
            "Book added to the shopping cart.\n",
            "Shirt added to the shopping cart.\n",
            "Headphones added to the shopping cart.\n",
            "Items in the shopping cart:\n",
            "- Book\n",
            "- Shirt\n",
            "- Headphones\n",
            "Shirt removed from the shopping cart.\n",
            "Items in the shopping cart:\n",
            "- Book\n",
            "- Headphones\n",
            "Shopping cart cleared.\n",
            "The shopping cart is empty.\n"
          ]
        }
      ]
    },
    {
      "cell_type": "markdown",
      "source": [
        "10.\tImagine a school management system. You have to design the \"Student\" class using OOP concepts.The “Student” class has the following attributes:\n",
        "\n",
        "a.\tname: Represents the name of the student.\n",
        "\n",
        "b.\tage: Represents the age of the student.\n",
        "\n",
        "c.\tgrade: Represents the grade or class of the student.\n",
        "\n",
        "d.\tstudent_id: Represents the unique identifier for the student.\n",
        "\n",
        "e.\tattendance: Represents the attendance record of the student. The class\n",
        "\n",
        "Should also include the following methods:\n",
        "\n",
        "a.\tupdate_attendance(self, date, status): Updates the attendance record of the student for a given date with the provided status (e.g., present or absent).\n",
        "\n",
        "b.\tget_attendance(self): Returns the attendance record of the student.\n",
        "\n",
        "c.\tget_average_attendance(self): Calculates and returns the average attendance percentage of the student based on their attendance record.\n"
      ],
      "metadata": {
        "id": "PUmSKlGWt9Av"
      }
    },
    {
      "cell_type": "markdown",
      "source": [
        "Ans:"
      ],
      "metadata": {
        "id": "y9CGelbZuLob"
      }
    },
    {
      "cell_type": "code",
      "source": [
        "class Student:\n",
        "    def __init__(self, name, age, grade, student_id):\n",
        "        self.name = name\n",
        "        self.age = age\n",
        "        self.grade = grade\n",
        "        self.student_id = student_id\n",
        "        self.attendance = {}\n",
        "\n",
        "    def update_attendance(self, date, status):\n",
        "        self.attendance[date] = status\n",
        "\n",
        "    def get_attendance(self):\n",
        "        return self.attendance\n",
        "\n",
        "    def get_average_attendance(self):\n",
        "        total_days = len(self.attendance)\n",
        "        if total_days == 0:\n",
        "            return 0.0\n",
        "\n",
        "        present_days = sum(1 for status in self.attendance.values() if status == 'present')\n",
        "        average_attendance = (present_days / total_days) * 100\n",
        "        return average_attendance\n",
        "\n",
        "\n",
        "student1 = Student(\"Alice\", 15, \"10th Grade\", \"ID001\")\n",
        "\n",
        "\n",
        "student1.update_attendance(\"2023-07-01\", \"present\")\n",
        "student1.update_attendance(\"2023-07-02\", \"absent\")\n",
        "student1.update_attendance(\"2023-07-03\", \"present\")\n",
        "\n",
        "attendance_record = student1.get_attendance()\n",
        "print(\"Attendance Record:\")\n",
        "for date, status in attendance_record.items():\n",
        "    print(f\"{date}: {status}\")\n",
        "\n",
        "\n",
        "average_attendance = student1.get_average_attendance()\n",
        "print(f\"Average Attendance: {average_attendance:.2f}%\")\n"
      ],
      "metadata": {
        "colab": {
          "base_uri": "https://localhost:8080/"
        },
        "id": "S9KnHA_KuNDS",
        "outputId": "c8623d9f-ef38-442a-daa8-1e0eef10bda3"
      },
      "execution_count": 7,
      "outputs": [
        {
          "output_type": "stream",
          "name": "stdout",
          "text": [
            "Attendance Record:\n",
            "2023-07-01: present\n",
            "2023-07-02: absent\n",
            "2023-07-03: present\n",
            "Average Attendance: 66.67%\n"
          ]
        }
      ]
    }
  ]
}