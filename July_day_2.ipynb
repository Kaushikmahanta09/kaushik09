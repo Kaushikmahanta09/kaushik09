{
  "nbformat": 4,
  "nbformat_minor": 0,
  "metadata": {
    "colab": {
      "provenance": []
    },
    "kernelspec": {
      "name": "python3",
      "display_name": "Python 3"
    },
    "language_info": {
      "name": "python"
    }
  },
  "cells": [
    {
      "cell_type": "markdown",
      "source": [
        "## **1.\tExplain what inheritance is in object-oriented programming and why it is used.**"
      ],
      "metadata": {
        "id": "eCy0uyPPhbD7"
      }
    },
    {
      "cell_type": "markdown",
      "source": [
        "Ans: Inheritance is a fundamental concept in object-oriented programming (OOP) that allows a class to inherit properties and behaviors from another class.\n",
        "\n",
        "The key idea behind inheritance is to establish a parent-child relationship, where the child class (also known as a derived class or subclass) inherits the characteristics of the parent class (also known as a base class or superclass). The child class can access and reuse the attributes and methods defined in the parent class without having to redefine them. It essentially allows for code reuse and promotes the concept of \"is-a\" relationship.\n",
        "\n",
        "Inheritance is used for several reasons:\n",
        "\n",
        " **Code Reusability:** **bold text** Inheritance enables the reuse of existing code by allowing the child class to inherit and extend the properties and behaviors of the parent class\n",
        "\n",
        "**Hierarchy and Organization:** Inheritance allows for the creation of class hierarchies, organizing related classes into logical structures.\n",
        "\n",
        "**Polymorphism:** Inheritance plays a crucial role in achieving polymorphism, which allows objects of different classes to be treated as objects of a common superclass.\n",
        "\n",
        "**Specialization and Generalization:** Inheritance supports the concept of specialization, where child classes can add specific attributes or behaviors to the inherited ones.\n",
        "\n",
        "**Code Organization and Maintenance:** Inheritance promotes a structured approach to organizing code, making it easier to manage and maintain."
      ],
      "metadata": {
        "id": "PJj7LMEWh5IG"
      }
    },
    {
      "cell_type": "markdown",
      "source": [
        "## **2.\tDiscuss the concept of single inheritance and multiple inheritance, highlighting their differences and advantages.**"
      ],
      "metadata": {
        "id": "Iu7mCWtDkQkH"
      }
    },
    {
      "cell_type": "markdown",
      "source": [
        "Ans:\n",
        "\n",
        "**Single Inheritance:**\n",
        "\n",
        "*  Single inheritance refers to the ability of a class to inherit properties and behaviors from a single parent class.\n",
        "\n",
        "* In single inheritance, a derived class extends or specializes a single base class, forming a linear parent-child relationship.\n",
        "\n",
        "* The derived class inherits all the attributes and methods of the base class, allowing for code reuse and the extension of functionality.\n",
        "\n",
        "* Single inheritance is simpler and easier to understand as it involves a straightforward hierarchical structure."
      ],
      "metadata": {
        "id": "VD2QA34IlK1-"
      }
    },
    {
      "cell_type": "code",
      "source": [
        "class Animal:\n",
        "    def eat(self):\n",
        "        print(\"Animal is eating...\")\n",
        "\n",
        "class Dog(Animal):\n",
        "    def bark(self):\n",
        "        print(\"Dog is barking...\")\n",
        "\n",
        "dog = Dog()\n",
        "dog.eat()\n",
        "dog.bark()\n"
      ],
      "metadata": {
        "colab": {
          "base_uri": "https://localhost:8080/"
        },
        "id": "OUXH2ftMloY1",
        "outputId": "b9b5a622-15ed-40cf-a486-4c2132f4f4aa"
      },
      "execution_count": 2,
      "outputs": [
        {
          "output_type": "stream",
          "name": "stdout",
          "text": [
            "Animal is eating...\n",
            "Dog is barking...\n"
          ]
        }
      ]
    },
    {
      "cell_type": "markdown",
      "source": [
        "**Multiple Inheritance:**\n",
        "\n",
        "* Multiple inheritance refers to the ability of a class to inherit properties and behaviors from multiple parent classes.\n",
        "\n",
        "* In multiple inheritance, a derived class can inherit from two or more base classes, forming a diamond or hybrid parent-child relationship.\n",
        "\n",
        "* The derived class inherits all the attributes and methods from all the base classes, allowing for code reuse and combination of functionalities.\n",
        "\n",
        "* Multiple inheritance is more flexible and allows for greater code reuse, but it can also be more complex and challenging to manage."
      ],
      "metadata": {
        "id": "5do68jjbl_Go"
      }
    },
    {
      "cell_type": "code",
      "source": [
        "class Flyable:\n",
        "    def fly(self):\n",
        "        print(\"Flying...\")\n",
        "\n",
        "class Swimmable:\n",
        "    def swim(self):\n",
        "        print(\"Swimming...\")\n",
        "\n",
        "class Duck(Flyable, Swimmable):\n",
        "    def quack(self):\n",
        "        print(\"Quack!\")\n",
        "\n",
        "duck = Duck()\n",
        "duck.fly()\n",
        "duck.swim()\n",
        "duck.quack()\n"
      ],
      "metadata": {
        "colab": {
          "base_uri": "https://localhost:8080/"
        },
        "id": "HC0uFQaym6wT",
        "outputId": "94583257-2910-4548-9984-c9049f0c77ae"
      },
      "execution_count": 3,
      "outputs": [
        {
          "output_type": "stream",
          "name": "stdout",
          "text": [
            "Flying...\n",
            "Swimming...\n",
            "Quack!\n"
          ]
        }
      ]
    },
    {
      "cell_type": "markdown",
      "source": [
        "# **3.\tExplain the terms \"base class\" and \"derived class\" in the context of inheritance.**"
      ],
      "metadata": {
        "id": "_Yk3O85MnQpH"
      }
    },
    {
      "cell_type": "markdown",
      "source": [
        "Ans:\n",
        "\n",
        "**Base Class (Superclass/Parent Class)**:\n",
        "\n",
        "A base class is the class from which another class inherits properties and behaviors. It serves as the foundation or starting point for the derived class. The base class defines common attributes and methods that can be shared among multiple derived classes. It encapsulates the common functionalities and characteristics that the derived classes can inherit and build upon.\n",
        "\n",
        "**Derived Class (Subclass/Child Class)**:\n",
        "\n",
        "A derived class is a class that inherits properties and behaviors from a base class. It extends or specializes the functionality of the base class by adding its own unique attributes and methods or overriding the ones inherited from the base class. The derived class inherits all the accessible attributes and methods from the base class, allowing for code reuse and modification."
      ],
      "metadata": {
        "id": "HHZ_oI3KnnXH"
      }
    },
    {
      "cell_type": "code",
      "source": [
        "class Animal:\n",
        "    def eat(self):\n",
        "        print(\"Animal is eating...\")\n",
        "\n",
        "    def sleep(self):\n",
        "        print(\"Animal is sleeping...\")\n",
        "\n",
        "class Dog(Animal):\n",
        "    def bark(self):\n",
        "        print(\"Dog is barking...\")\n",
        "\n",
        "dog = Dog()\n",
        "dog.eat()\n",
        "dog.sleep()\n",
        "dog.bark()\n"
      ],
      "metadata": {
        "colab": {
          "base_uri": "https://localhost:8080/"
        },
        "id": "CaCxOFLyn8J-",
        "outputId": "b666a283-aabe-4206-eb49-8308822ab5f6"
      },
      "execution_count": 4,
      "outputs": [
        {
          "output_type": "stream",
          "name": "stdout",
          "text": [
            "Animal is eating...\n",
            "Animal is sleeping...\n",
            "Dog is barking...\n"
          ]
        }
      ]
    },
    {
      "cell_type": "markdown",
      "source": [
        "# **4.\tWhat is the significance of the \"protected\" access modifier in inheritance? How does it differ from \"private\" and \"public\" modifiers?**"
      ],
      "metadata": {
        "id": "sVtcjWu1tazb"
      }
    },
    {
      "cell_type": "markdown",
      "source": [
        "Ans:\n",
        "\n",
        "The significance of the \"protected\" access modifier in inheritance is,\n",
        "\n",
        "* The \"protected\" access modifier allows derived classes to access and modify the protected members of their base class. This provides a level of encapsulation, allowing derived classes to interact with and extend the base class's behavior without exposing the details to the outside world.\n",
        "\n",
        "The difference between \"private\" and \"public\" modifiers are\n",
        "\n",
        "* Private members are accessible only within the class in which they are defined.\n",
        "* Protected members are accessible within the class hierarchy, including the base class and its derived classes.\n",
        "* Public members are accessible from anywhere in the program, both inside and outside the class hierarchy."
      ],
      "metadata": {
        "id": "4q6EaWegtnod"
      }
    },
    {
      "cell_type": "markdown",
      "source": [
        "# **5.\tWhat is the purpose of the \"super\" keyword in inheritance? Provide an example.**"
      ],
      "metadata": {
        "id": "n3MNyKnEu_SA"
      }
    },
    {
      "cell_type": "markdown",
      "source": [
        "Ans:\n",
        "\n",
        "The main purposes of the \"super\" keyword are:\n",
        "\n",
        "* **Invoking Base Class Methods:**\n",
        "\n",
        "  We can use \"super\" to call methods defined in the base class, even if the method is overridden in the derived class. This is useful when we want to extend the functionality of the base class method without completely replacing it.\n",
        "\n",
        "* **Accessing Base Class Attributes:**\n",
        "\n",
        "   The \"super\" keyword can also be used to access attributes defined in the base class from within the derived class. This allows us to use or modify the base class's attributes in the context of the derived class."
      ],
      "metadata": {
        "id": "lHSkpf2CvdPP"
      }
    },
    {
      "cell_type": "code",
      "source": [
        "class Animal:\n",
        "    def __init__(self, name):\n",
        "        self.name = name\n",
        "\n",
        "    def speak(self):\n",
        "        print(\"Animal speaks...\")\n",
        "\n",
        "class Dog(Animal):\n",
        "    def __init__(self, name, breed):\n",
        "        super().__init__(name)\n",
        "        self.breed = breed\n",
        "\n",
        "    def speak(self):\n",
        "        super().speak()\n",
        "        print(\"Dog barks...\")\n",
        "\n",
        "    def display_info(self):\n",
        "        print(f\"Name: {self.name}, Breed: {self.breed}\")\n",
        "\n",
        "\n",
        "dog = Dog(\"Tom\", \"Golden Retriever\")\n",
        "\n",
        "\n",
        "dog.display_info()\n",
        "dog.speak()\n"
      ],
      "metadata": {
        "colab": {
          "base_uri": "https://localhost:8080/"
        },
        "id": "m86U4RDIwIpm",
        "outputId": "80c53e51-748d-4be7-f054-e2a9abe07a8f"
      },
      "execution_count": 7,
      "outputs": [
        {
          "output_type": "stream",
          "name": "stdout",
          "text": [
            "Name: Tom, Breed: Golden Retriever\n",
            "Animal speaks...\n",
            "Dog barks...\n"
          ]
        }
      ]
    },
    {
      "cell_type": "markdown",
      "source": [
        "# **6.\tCreate a base class called \"Vehicle\" with attributes like \"make\", \"model\", and \"year\". Then, create a derived class called \"Car\" that inherits from \"Vehicle\" and adds an attribute called \"fuel_type\". Implement appropriate methods in both classes.**\n",
        "\n"
      ],
      "metadata": {
        "id": "68MgK7bmwhwt"
      }
    },
    {
      "cell_type": "markdown",
      "source": [
        "Ans:"
      ],
      "metadata": {
        "id": "UT_qNRn0wnkP"
      }
    },
    {
      "cell_type": "code",
      "source": [
        "class Vehicle:\n",
        "    def __init__(self, make, model, year):\n",
        "        self.make = make\n",
        "        self.model = model\n",
        "        self.year = year\n",
        "\n",
        "    def display_info(self):\n",
        "        print(f\"Make: {self.make}, Model: {self.model}, Year: {self.year}\")\n",
        "\n",
        "\n",
        "class Car(Vehicle):\n",
        "    def __init__(self, make, model, year, fuel_type):\n",
        "        super().__init__(make, model, year)\n",
        "        self.fuel_type = fuel_type\n",
        "\n",
        "    def display_info(self):\n",
        "        super().display_info()\n",
        "        print(f\"Fuel Type: {self.fuel_type}\")\n",
        "\n",
        "\n",
        "car = Car(\"Hyndai\", \"i20\", 2023, \"Gasoline\")\n",
        "\n",
        "car.display_info()\n"
      ],
      "metadata": {
        "colab": {
          "base_uri": "https://localhost:8080/"
        },
        "id": "ouTcUsl_xSWX",
        "outputId": "17890d91-2a1a-4991-b54d-3263e90d2584"
      },
      "execution_count": 8,
      "outputs": [
        {
          "output_type": "stream",
          "name": "stdout",
          "text": [
            "Make: Hyndai, Model: i20, Year: 2023\n",
            "Fuel Type: Gasoline\n"
          ]
        }
      ]
    },
    {
      "cell_type": "markdown",
      "source": [
        "# **7.\tCreate a base class called \"Employee\" with attributes like \"name\" and \"salary.\" Derive two classes, \"Manager\" and \"Developer,\" from \"Employee.\" Add an additional attribute called \"department\" for the \"Manager\" class and \"programming_language\" for the \"Developer\" class.**"
      ],
      "metadata": {
        "id": "eNmbvzBdxvqN"
      }
    },
    {
      "cell_type": "markdown",
      "source": [
        "Ans:"
      ],
      "metadata": {
        "id": "_Fnpntl_x2Sn"
      }
    },
    {
      "cell_type": "code",
      "source": [
        "class Employee:\n",
        "    def __init__(self, name, salary):\n",
        "        self.name = name\n",
        "        self.salary = salary\n",
        "\n",
        "    def display_info(self):\n",
        "        print(f\"Name: {self.name}, Salary: {self.salary}\")\n",
        "\n",
        "\n",
        "class Manager(Employee):\n",
        "    def __init__(self, name, salary, department):\n",
        "        super().__init__(name, salary)\n",
        "        self.department = department\n",
        "\n",
        "    def display_info(self):\n",
        "        super().display_info()\n",
        "        print(f\"Department: {self.department}\")\n",
        "\n",
        "\n",
        "class Developer(Employee):\n",
        "    def __init__(self, name, salary, programming_language):\n",
        "        super().__init__(name, salary)\n",
        "        self.programming_language = programming_language\n",
        "\n",
        "    def display_info(self):\n",
        "        super().display_info()\n",
        "        print(f\"Programming Language: {self.programming_language}\")\n",
        "\n",
        "\n",
        "manager = Manager(\"John\", 50000, \"Senior Manager\")\n",
        "developer = Developer(\"Alice\", 60000, \"Python Developer\")\n",
        "\n",
        "manager.display_info()\n",
        "developer.display_info()\n"
      ],
      "metadata": {
        "colab": {
          "base_uri": "https://localhost:8080/"
        },
        "id": "6aV0GePUx48B",
        "outputId": "2162333b-ab91-4d17-981a-9d9f71538d07"
      },
      "execution_count": 9,
      "outputs": [
        {
          "output_type": "stream",
          "name": "stdout",
          "text": [
            "Name: John, Salary: 50000\n",
            "Department: Senior Manager\n",
            "Name: Alice, Salary: 60000\n",
            "Programming Language: Python Developer\n"
          ]
        }
      ]
    },
    {
      "cell_type": "markdown",
      "source": [
        "# **8.\tDesign a base class called \"Shape\" with attributes like \"colour\" and \"border_width.\" Create derived classes, \"Rectangle\" and \"Circle,\" that inherit from \"Shape\" and add specific attributes like \"length\" and \"width\" for the \"Rectangle\" class and \"radius\" for the \"Circle\" class.**"
      ],
      "metadata": {
        "id": "M1lnirSGy28b"
      }
    },
    {
      "cell_type": "markdown",
      "source": [
        "Ans:"
      ],
      "metadata": {
        "id": "VZeSqxYmy9K2"
      }
    },
    {
      "cell_type": "code",
      "source": [
        "class Shape:\n",
        "    def __init__(self, colour, border_width):\n",
        "        self.colour = colour\n",
        "        self.border_width = border_width\n",
        "\n",
        "    def display_info(self):\n",
        "        print(f\"Colour: {self.colour}, Border Width: {self.border_width}\")\n",
        "\n",
        "\n",
        "class Rectangle(Shape):\n",
        "    def __init__(self, colour, border_width, length, width):\n",
        "        super().__init__(colour, border_width)\n",
        "        self.length = length\n",
        "        self.width = width\n",
        "\n",
        "    def display_info(self):\n",
        "        super().display_info()\n",
        "        print(f\"Length: {self.length}, Width: {self.width}\")\n",
        "\n",
        "\n",
        "class Circle(Shape):\n",
        "    def __init__(self, colour, border_width, radius):\n",
        "        super().__init__(colour, border_width)\n",
        "        self.radius = radius\n",
        "\n",
        "    def display_info(self):\n",
        "        super().display_info()\n",
        "        print(f\"Radius: {self.radius}\")\n",
        "\n",
        "\n",
        "rectangle = Rectangle(\"Black\", 2, 5, 3)\n",
        "circle = Circle(\"Dark Blue\", 1, 4)\n",
        "\n",
        "rectangle.display_info()\n",
        "circle.display_info()\n"
      ],
      "metadata": {
        "colab": {
          "base_uri": "https://localhost:8080/"
        },
        "id": "OVfq1Fh9y-wO",
        "outputId": "36674ee8-1207-4806-bc28-ae6a6e61c8c5"
      },
      "execution_count": 11,
      "outputs": [
        {
          "output_type": "stream",
          "name": "stdout",
          "text": [
            "Colour: Black, Border Width: 2\n",
            "Length: 5, Width: 3\n",
            "Colour: Dark Blue, Border Width: 1\n",
            "Radius: 4\n"
          ]
        }
      ]
    },
    {
      "cell_type": "markdown",
      "source": [
        "\n",
        "# **# 9.\tCreate a base class called \"Device\" with attributes like \"brand\" and \"model.\" Derive two classes, \"Phone\" and \"Tablet,\" from \"Device.\" Add specific attributes like \"screen_size\" for the \"Phone\" class and \"battery_capacity\" for the \"Tablet\" class.**\n"
      ],
      "metadata": {
        "id": "Fefnx_YbzaV_"
      }
    },
    {
      "cell_type": "markdown",
      "source": [
        "Ans:"
      ],
      "metadata": {
        "id": "TIkMxrQezlSk"
      }
    },
    {
      "cell_type": "code",
      "source": [
        "class Device:\n",
        "    def __init__(self, brand, model):\n",
        "        self.brand = brand\n",
        "        self.model = model\n",
        "\n",
        "    def display_info(self):\n",
        "        print(f\"Brand: {self.brand}, Model: {self.model}\")\n",
        "\n",
        "\n",
        "class Phone(Device):\n",
        "    def __init__(self, brand, model, screen_size):\n",
        "        super().__init__(brand, model)\n",
        "        self.screen_size = screen_size\n",
        "\n",
        "    def display_info(self):\n",
        "        super().display_info()\n",
        "        print(f\"Screen Size: {self.screen_size}\")\n",
        "\n",
        "\n",
        "class Tablet(Device):\n",
        "    def __init__(self, brand, model, battery_capacity):\n",
        "        super().__init__(brand, model)\n",
        "        self.battery_capacity = battery_capacity\n",
        "\n",
        "    def display_info(self):\n",
        "        super().display_info()\n",
        "        print(f\"Battery Capacity: {self.battery_capacity}\")\n",
        "\n",
        "phone = Phone(\"OnePlus\", \"NordCE\", \"6.1 inches\")\n",
        "tablet = Tablet(\"Samsung\", \"Galaxy Tab S7\", \"8000 mAh\")\n",
        "\n",
        "phone.display_info()\n",
        "tablet.display_info()\n"
      ],
      "metadata": {
        "colab": {
          "base_uri": "https://localhost:8080/"
        },
        "id": "-0BudO2bzn7w",
        "outputId": "1cd72d0a-b072-4fa5-ae43-11313810deeb"
      },
      "execution_count": 13,
      "outputs": [
        {
          "output_type": "stream",
          "name": "stdout",
          "text": [
            "Brand: OnePlus, Model: NordCE\n",
            "Screen Size: 6.1 inches\n",
            "Brand: Samsung, Model: Galaxy Tab S7\n",
            "Battery Capacity: 8000 mAh\n"
          ]
        }
      ]
    },
    {
      "cell_type": "markdown",
      "source": [
        "# **10.\tCreate a base class called \"BankAccount\" with attributes like \"account_number\" and \"balance.\" Derive two classes, \"SavingsAccount\" and \"CheckingAccount,\" from \"BankAccount.\" Add specific methods like \"calculate_interest\" for the \"SavingsAccount\" class and \"deduct_fees\" for the \"CheckingAccount\" class.**"
      ],
      "metadata": {
        "id": "5KCEl8ha0ErB"
      }
    },
    {
      "cell_type": "markdown",
      "source": [
        "Ans:"
      ],
      "metadata": {
        "id": "jof3WYSF0J1-"
      }
    },
    {
      "cell_type": "code",
      "source": [
        "class BankAccount:\n",
        "    def __init__(self, account_number, balance):\n",
        "        self.account_number = account_number\n",
        "        self.balance = balance\n",
        "\n",
        "    def display_info(self):\n",
        "        print(f\"Account Number: {self.account_number}, Balance: {self.balance}\")\n",
        "\n",
        "\n",
        "class SavingsAccount(BankAccount):\n",
        "    def __init__(self, account_number, balance):\n",
        "        super().__init__(account_number, balance)\n",
        "\n",
        "    def calculate_interest(self, interest_rate):\n",
        "        interest = self.balance * interest_rate\n",
        "        self.balance += interest\n",
        "        print(f\"Interest calculated and added. New Balance: {self.balance}\")\n",
        "\n",
        "\n",
        "class CheckingAccount(BankAccount):\n",
        "    def __init__(self, account_number, balance):\n",
        "        super().__init__(account_number, balance)\n",
        "\n",
        "    def deduct_fees(self, fee_amount):\n",
        "        self.balance -= fee_amount\n",
        "        print(f\"Fees deducted. New Balance: {self.balance}\")\n",
        "\n",
        "savings_account = SavingsAccount(\"123456789\", 5000)\n",
        "checking_account = CheckingAccount(\"987654321\", 1000)\n",
        "\n",
        "savings_account.display_info()\n",
        "savings_account.calculate_interest(0.05)\n",
        "\n",
        "checking_account.display_info()\n",
        "checking_account.deduct_fees(10)\n"
      ],
      "metadata": {
        "colab": {
          "base_uri": "https://localhost:8080/"
        },
        "id": "BarZlHMC0LVY",
        "outputId": "5b9d90bd-6b79-46a4-a841-d624bd1ee47b"
      },
      "execution_count": 15,
      "outputs": [
        {
          "output_type": "stream",
          "name": "stdout",
          "text": [
            "Account Number: 123456789, Balance: 5000\n",
            "Interest calculated and added. New Balance: 5250.0\n",
            "Account Number: 987654321, Balance: 1000\n",
            "Fees deducted. New Balance: 990\n"
          ]
        }
      ]
    }
  ]
}